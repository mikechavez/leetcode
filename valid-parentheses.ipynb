{
 "cells": [
  {
   "cell_type": "code",
   "execution_count": 288,
   "id": "controlling-receptor",
   "metadata": {},
   "outputs": [],
   "source": [
    "def isValid(s: str) -> bool:\n",
    "    if len(s) % 2 != 0:\n",
    "        return False\n",
    "    \n",
    "\n",
    "    valid = ['()','{}','[]']\n",
    "    opening = ['(', '{', '[']\n",
    "    closing = [')', '}', ']']\n",
    "    stack = []\n",
    "    \n",
    "    for c in s:\n",
    "        if c in opening:\n",
    "            stack.append(c)\n",
    "        elif c in closing and len(stack) > 0:\n",
    "            bracket = stack.pop() + c\n",
    "            if bracket not in valid:\n",
    "                return False\n",
    "        else:\n",
    "            return False\n",
    "        \n",
    "    if len(stack) == 0:\n",
    "        return True\n",
    "    else:\n",
    "        return False\n",
    "        "
   ]
  },
  {
   "cell_type": "code",
   "execution_count": 289,
   "id": "entire-report",
   "metadata": {
    "jupyter": {
     "source_hidden": true
    }
   },
   "outputs": [],
   "source": [
    "# def isValid(s):\n",
    "#     # Odd lengths means at least one open bracket is not closed\n",
    "#     if len(s) % 2 != 0:\n",
    "#         return False\n",
    "    \n",
    "#     valid = ['()','{}','[]']\n",
    "#     opening = ['(', '{', '[']\n",
    "#     closing = [')', '}', ']']\n",
    "    \n",
    "#     l_open = []\n",
    "#     l_close = []\n",
    "    \n",
    "#     for c in s:\n",
    "#         print(c)\n",
    "#         if c not in opening and c not in closing:\n",
    "#             print('not in open')\n",
    "#             return False\n",
    "        \n",
    "#         if c in opening:\n",
    "#             l_open.append(c)\n",
    "#         else:\n",
    "#             l_close.append(c)\n",
    "    \n",
    "#     brackets = zip(l_open,l_close)\n",
    "    \n",
    "#     print(brackets)\n",
    "    \n",
    "    \n",
    "#     # add to list of open brackets\n",
    "#     # add to list of closed brackets\n",
    "    \n",
    "#     # zip together lists to create tuples of brackets\n",
    "    \n",
    "#     # loop through tuples of brackets and check whether valid\n",
    "    \n",
    "# #     # Parse string into char pairs\n",
    "# #     for i, c in enumerate(s):\n",
    "# #         if i % 2 == 0:\n",
    "# #             pairs.append(c + s[i+1])\n",
    "# #     print(pairs)\n",
    "    \n",
    "# #     # Iterate char pairs and return False if any pair is not a valid bracket pair\n",
    "# #     for p in pairs:\n",
    "# #         if p not in valid:\n",
    "# #             return False\n",
    "    \n",
    "#     return True"
   ]
  },
  {
   "cell_type": "code",
   "execution_count": 290,
   "id": "upper-discussion",
   "metadata": {},
   "outputs": [],
   "source": [
    "s = '))))'"
   ]
  },
  {
   "cell_type": "code",
   "execution_count": 291,
   "id": "separated-appearance",
   "metadata": {},
   "outputs": [
    {
     "data": {
      "text/plain": [
       "'))))'"
      ]
     },
     "execution_count": 291,
     "metadata": {},
     "output_type": "execute_result"
    }
   ],
   "source": [
    "s"
   ]
  },
  {
   "cell_type": "code",
   "execution_count": 292,
   "id": "successful-cycle",
   "metadata": {},
   "outputs": [
    {
     "name": "stdout",
     "output_type": "stream",
     "text": [
      "False\n"
     ]
    }
   ],
   "source": [
    "print(isValid(s))"
   ]
  },
  {
   "cell_type": "code",
   "execution_count": null,
   "id": "elegant-arrow",
   "metadata": {},
   "outputs": [],
   "source": []
  },
  {
   "cell_type": "code",
   "execution_count": null,
   "id": "swiss-belle",
   "metadata": {},
   "outputs": [],
   "source": []
  }
 ],
 "metadata": {
  "kernelspec": {
   "display_name": "Python 3",
   "language": "python",
   "name": "python3"
  },
  "language_info": {
   "codemirror_mode": {
    "name": "ipython",
    "version": 3
   },
   "file_extension": ".py",
   "mimetype": "text/x-python",
   "name": "python",
   "nbconvert_exporter": "python",
   "pygments_lexer": "ipython3",
   "version": "3.8.5"
  }
 },
 "nbformat": 4,
 "nbformat_minor": 5
}
