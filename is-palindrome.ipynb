{
 "cells": [
  {
   "cell_type": "code",
   "execution_count": 102,
   "id": "controlled-category",
   "metadata": {},
   "outputs": [],
   "source": [
    "x = 2002"
   ]
  },
  {
   "cell_type": "code",
   "execution_count": 103,
   "id": "noticed-editor",
   "metadata": {},
   "outputs": [],
   "source": [
    "def isPalindrome(x):\n",
    "    str_x = str(x)\n",
    "    if x < 0:\n",
    "        return False\n",
    "    for i in enumerate(str_x):\n",
    "        if str_x[i[0]] != str_x[len(str_x)-1-i[0]]:\n",
    "            return False\n",
    "\n",
    "    return True"
   ]
  },
  {
   "cell_type": "code",
   "execution_count": 104,
   "id": "approved-tennessee",
   "metadata": {},
   "outputs": [
    {
     "name": "stdout",
     "output_type": "stream",
     "text": [
      "2002\n"
     ]
    }
   ],
   "source": [
    "print(x)"
   ]
  },
  {
   "cell_type": "code",
   "execution_count": 105,
   "id": "excited-insight",
   "metadata": {},
   "outputs": [
    {
     "data": {
      "text/plain": [
       "'2002'"
      ]
     },
     "execution_count": 105,
     "metadata": {},
     "output_type": "execute_result"
    }
   ],
   "source": [
    "str_x = str(x)\n",
    "str_x"
   ]
  },
  {
   "cell_type": "code",
   "execution_count": 106,
   "id": "anticipated-thesis",
   "metadata": {},
   "outputs": [],
   "source": [
    "# for i in enumerate(str_x):\n",
    "#     print(i)\n",
    "#     print(len(str_x)-1-i[0])\n",
    "#     if str_x[i[0]] != str_x[len(str_x)-1-i[0]]:\n",
    "#         return False\n",
    "    "
   ]
  },
  {
   "cell_type": "code",
   "execution_count": 107,
   "id": "responsible-tradition",
   "metadata": {},
   "outputs": [],
   "source": [
    "y = isPalindrome(x)"
   ]
  },
  {
   "cell_type": "code",
   "execution_count": 108,
   "id": "designing-affair",
   "metadata": {},
   "outputs": [
    {
     "name": "stdout",
     "output_type": "stream",
     "text": [
      "True\n"
     ]
    }
   ],
   "source": [
    "print(y)"
   ]
  },
  {
   "cell_type": "code",
   "execution_count": 110,
   "id": "moral-thomson",
   "metadata": {},
   "outputs": [
    {
     "data": {
      "text/plain": [
       "200.2"
      ]
     },
     "execution_count": 110,
     "metadata": {},
     "output_type": "execute_result"
    }
   ],
   "source": [
    "x / 10"
   ]
  },
  {
   "cell_type": "code",
   "execution_count": null,
   "id": "optimum-direction",
   "metadata": {},
   "outputs": [],
   "source": []
  }
 ],
 "metadata": {
  "kernelspec": {
   "display_name": "deep-tracer-2.0",
   "language": "python",
   "name": "deep-tracer-2.0"
  },
  "language_info": {
   "codemirror_mode": {
    "name": "ipython",
    "version": 3
   },
   "file_extension": ".py",
   "mimetype": "text/x-python",
   "name": "python",
   "nbconvert_exporter": "python",
   "pygments_lexer": "ipython3",
   "version": "3.8.5"
  }
 },
 "nbformat": 4,
 "nbformat_minor": 5
}
